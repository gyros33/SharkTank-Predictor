{
 "cells": [
  {
   "cell_type": "code",
   "execution_count": 1,
   "metadata": {},
   "outputs": [
    {
     "name": "stderr",
     "output_type": "stream",
     "text": [
      "C:\\Users\\atk285\\AppData\\Local\\Continuum\\anaconda3\\envs\\PythonData\\lib\\site-packages\\sklearn\\externals\\joblib\\__init__.py:15: FutureWarning: sklearn.externals.joblib is deprecated in 0.21 and will be removed in 0.23. Please import this functionality directly from joblib, which can be installed with: pip install joblib. If this warning is raised when loading pickled models, you may need to re-serialize those models with scikit-learn 0.21+.\n",
      "  warnings.warn(msg, category=FutureWarning)\n"
     ]
    }
   ],
   "source": [
    "from sklearn.externals import joblib\n"
   ]
  },
  {
   "cell_type": "code",
   "execution_count": 2,
   "metadata": {},
   "outputs": [],
   "source": [
    "input_pitch = [\"personal air filtration system\"]"
   ]
  },
  {
   "cell_type": "code",
   "execution_count": 3,
   "metadata": {},
   "outputs": [],
   "source": [
    "input_amount = 500000\n",
    "input_exchange = 0.1\n",
    "input_valuation = 5000000\n",
    "input_gender = \"Male\"\n",
    "input_category = \"Health / Wellness\""
   ]
  },
  {
   "cell_type": "code",
   "execution_count": 4,
   "metadata": {},
   "outputs": [],
   "source": [
    "shark_to_model = \"Mark Cuban\""
   ]
  },
  {
   "cell_type": "code",
   "execution_count": 5,
   "metadata": {},
   "outputs": [
    {
     "data": {
      "text/plain": [
       "RandomForestClassifier(bootstrap=True, ccp_alpha=0.0, class_weight=None,\n",
       "                       criterion='gini', max_depth=None, max_features='auto',\n",
       "                       max_leaf_nodes=None, max_samples=None,\n",
       "                       min_impurity_decrease=0.0, min_impurity_split=None,\n",
       "                       min_samples_leaf=1, min_samples_split=2,\n",
       "                       min_weight_fraction_leaf=0.0, n_estimators=100,\n",
       "                       n_jobs=-1, oob_score=False, random_state=10, verbose=0,\n",
       "                       warm_start=False)"
      ]
     },
     "execution_count": 5,
     "metadata": {},
     "output_type": "execute_result"
    }
   ],
   "source": [
    "the_model = joblib.load(f\"{shark_to_model}_model.pkl\")\n",
    "the_model"
   ]
  },
  {
   "cell_type": "code",
   "execution_count": 6,
   "metadata": {},
   "outputs": [
    {
     "data": {
      "text/html": [
       "<div>\n",
       "<style scoped>\n",
       "    .dataframe tbody tr th:only-of-type {\n",
       "        vertical-align: middle;\n",
       "    }\n",
       "\n",
       "    .dataframe tbody tr th {\n",
       "        vertical-align: top;\n",
       "    }\n",
       "\n",
       "    .dataframe thead th {\n",
       "        text-align: right;\n",
       "    }\n",
       "</style>\n",
       "<table border=\"1\" class=\"dataframe\">\n",
       "  <thead>\n",
       "    <tr style=\"text-align: right;\">\n",
       "      <th></th>\n",
       "      <th>-not</th>\n",
       "      <th>-not simpli</th>\n",
       "      <th>1,2pee</th>\n",
       "      <th>10</th>\n",
       "      <th>10 cool</th>\n",
       "      <th>10 day</th>\n",
       "      <th>10 minut</th>\n",
       "      <th>10 net</th>\n",
       "      <th>10 spandex</th>\n",
       "      <th>10,000</th>\n",
       "      <th>...</th>\n",
       "      <th>Category_Fitness / Sports / Outdoor</th>\n",
       "      <th>Category_Food and Beverage</th>\n",
       "      <th>Category_Green / Clean Tech</th>\n",
       "      <th>Category_Health / Wellness</th>\n",
       "      <th>Category_Lifestyle / Home</th>\n",
       "      <th>Category_Media / Entertainment</th>\n",
       "      <th>Category_Pet Products</th>\n",
       "      <th>Category_Software / Tech</th>\n",
       "      <th>Category_Travel</th>\n",
       "      <th>Category_Uncertain / Other</th>\n",
       "    </tr>\n",
       "  </thead>\n",
       "  <tbody>\n",
       "    <tr>\n",
       "      <td>0</td>\n",
       "      <td>0.0</td>\n",
       "      <td>0.0</td>\n",
       "      <td>0.0</td>\n",
       "      <td>0.0</td>\n",
       "      <td>0.0</td>\n",
       "      <td>0.0</td>\n",
       "      <td>0.0</td>\n",
       "      <td>0.0</td>\n",
       "      <td>0.0</td>\n",
       "      <td>0.0</td>\n",
       "      <td>...</td>\n",
       "      <td>0.0</td>\n",
       "      <td>0.0</td>\n",
       "      <td>0.0</td>\n",
       "      <td>0.0</td>\n",
       "      <td>0.0</td>\n",
       "      <td>0.0</td>\n",
       "      <td>0.0</td>\n",
       "      <td>0.0</td>\n",
       "      <td>0.0</td>\n",
       "      <td>0.0</td>\n",
       "    </tr>\n",
       "  </tbody>\n",
       "</table>\n",
       "<p>1 rows × 13190 columns</p>\n",
       "</div>"
      ],
      "text/plain": [
       "   -not  -not simpli  1,2pee   10  10 cool  10 day  10 minut  10 net  \\\n",
       "0   0.0          0.0     0.0  0.0      0.0     0.0       0.0     0.0   \n",
       "\n",
       "   10 spandex  10,000  ...  Category_Fitness / Sports / Outdoor  \\\n",
       "0         0.0     0.0  ...                                  0.0   \n",
       "\n",
       "   Category_Food and Beverage  Category_Green / Clean Tech  \\\n",
       "0                         0.0                          0.0   \n",
       "\n",
       "   Category_Health / Wellness  Category_Lifestyle / Home  \\\n",
       "0                         0.0                        0.0   \n",
       "\n",
       "   Category_Media / Entertainment  Category_Pet Products  \\\n",
       "0                             0.0                    0.0   \n",
       "\n",
       "   Category_Software / Tech  Category_Travel  Category_Uncertain / Other  \n",
       "0                       0.0              0.0                         0.0  \n",
       "\n",
       "[1 rows x 13190 columns]"
      ]
     },
     "execution_count": 6,
     "metadata": {},
     "output_type": "execute_result"
    }
   ],
   "source": [
    "# Custom tokenizer from class activity 22-1-4\n",
    "\n",
    "from sklearn.feature_extraction.text import TfidfVectorizer, TfidfTransformer\n",
    "from string import punctuation\n",
    "import nltk\n",
    "from nltk.stem import PorterStemmer\n",
    "from nltk.corpus import stopwords\n",
    "stopwords = stopwords.words( 'english' ) + list(punctuation)\n",
    "stemmer = PorterStemmer()\n",
    "import pandas as pd\n",
    "import numpy as np\n",
    "import pickle\n",
    "\n",
    "# Stemming\n",
    "punc_list = list(punctuation)\n",
    "def special_remove(word):\n",
    "    if len(word)>2:\n",
    "        return False\n",
    "    for c in word:\n",
    "        if c in punc_list:\n",
    "            return True\n",
    "    return False\n",
    "\n",
    "# custom function that overrides default token generation\n",
    "def custom_tokenizer(text):\n",
    "    text = text.lower()\n",
    "    words = nltk.word_tokenize(text)\n",
    "    words = [stemmer.stem(w) for w in words if w not in stopwords+[\"...\"]]\n",
    "    # further remove words with a special char\n",
    "    words = [w for w in words if not special_remove(w)]\n",
    "    return words\n",
    "\n",
    "\n",
    "transformer = TfidfTransformer()\n",
    "loaded_vectorizer = TfidfVectorizer(decode_error=\"replace\",vocabulary=pickle.load(open(f\"{shark_to_model}_vocab.pkl\", \"rb\")))\n",
    "tfidf = transformer.fit_transform(loaded_vectorizer.fit_transform(np.array(input_pitch)))\n",
    "input_df = pd.DataFrame(tfidf.toarray(), columns=loaded_vectorizer.get_feature_names())\n",
    "input_df\n"
   ]
  },
  {
   "cell_type": "code",
   "execution_count": 7,
   "metadata": {},
   "outputs": [],
   "source": [
    "input_df.loc[0,\"Amount_Asked_For\"] = input_amount\n",
    "input_df.loc[0,\"Exchange_For_Stake\"] = input_exchange\n",
    "input_df.loc[0,\"Valuation\"] = input_valuation\n",
    "input_df.loc[0,f\"Gender_{input_gender}\"] = 1\n",
    "input_df.loc[0,f\"Category_{input_category}\"] = 1"
   ]
  },
  {
   "cell_type": "code",
   "execution_count": 8,
   "metadata": {},
   "outputs": [
    {
     "data": {
      "text/plain": [
       "array([0], dtype=int64)"
      ]
     },
     "execution_count": 8,
     "metadata": {},
     "output_type": "execute_result"
    }
   ],
   "source": [
    "the_model.predict(input_df)"
   ]
  },
  {
   "cell_type": "code",
   "execution_count": null,
   "metadata": {},
   "outputs": [],
   "source": []
  }
 ],
 "metadata": {
  "file_extension": ".py",
  "kernelspec": {
   "display_name": "Python 3",
   "language": "python",
   "name": "python3"
  },
  "language_info": {
   "codemirror_mode": {
    "name": "ipython",
    "version": 3
   },
   "file_extension": ".py",
   "mimetype": "text/x-python",
   "name": "python",
   "nbconvert_exporter": "python",
   "pygments_lexer": "ipython3",
   "version": "3.7.6"
  },
  "mimetype": "text/x-python",
  "name": "python",
  "npconvert_exporter": "python",
  "pygments_lexer": "ipython3",
  "version": 3
 },
 "nbformat": 4,
 "nbformat_minor": 2
}
