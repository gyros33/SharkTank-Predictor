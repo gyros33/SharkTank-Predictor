{
 "cells": [
  {
   "cell_type": "code",
   "execution_count": 1,
   "metadata": {},
   "outputs": [],
   "source": [
    "import pandas as pd"
   ]
  },
  {
   "cell_type": "code",
   "execution_count": 2,
   "metadata": {},
   "outputs": [
    {
     "name": "stdout",
     "output_type": "stream",
     "text": [
      "CleanedmergedSharkTankData.csv csv_to_sql.ipynb\r\n",
      "SharkTank.sqlite               mergedSharkTankData.csv\r\n",
      "Sharktankpitchesdeals.csv      shark_tank.csv\r\n"
     ]
    }
   ],
   "source": [
    "!ls "
   ]
  },
  {
   "cell_type": "code",
   "execution_count": 3,
   "metadata": {},
   "outputs": [],
   "source": [
    "df = pd.read_csv(\"CleanedmergedSharkTankData.csv\")"
   ]
  },
  {
   "cell_type": "code",
   "execution_count": 4,
   "metadata": {},
   "outputs": [
    {
     "data": {
      "text/html": [
       "<div>\n",
       "<style scoped>\n",
       "    .dataframe tbody tr th:only-of-type {\n",
       "        vertical-align: middle;\n",
       "    }\n",
       "\n",
       "    .dataframe tbody tr th {\n",
       "        vertical-align: top;\n",
       "    }\n",
       "\n",
       "    .dataframe thead th {\n",
       "        text-align: right;\n",
       "    }\n",
       "</style>\n",
       "<table border=\"1\" class=\"dataframe\">\n",
       "  <thead>\n",
       "    <tr style=\"text-align: right;\">\n",
       "      <th></th>\n",
       "      <th>Id</th>\n",
       "      <th>Title</th>\n",
       "      <th>Episode</th>\n",
       "      <th>Season</th>\n",
       "      <th>Episode Code</th>\n",
       "      <th>Category</th>\n",
       "      <th>Entrepreneurs</th>\n",
       "      <th>Location</th>\n",
       "      <th>City</th>\n",
       "      <th>State</th>\n",
       "      <th>...</th>\n",
       "      <th>Shark 5</th>\n",
       "      <th>Deal Status</th>\n",
       "      <th>Shark(s) That Made a Deal</th>\n",
       "      <th>Deal Shark 1</th>\n",
       "      <th>Deal Shark 2</th>\n",
       "      <th>Deal Shark 3</th>\n",
       "      <th>Deal Shark 4</th>\n",
       "      <th>Deal Shark 5</th>\n",
       "      <th>Multiple Entreprenuers</th>\n",
       "      <th>Description</th>\n",
       "    </tr>\n",
       "  </thead>\n",
       "  <tbody>\n",
       "    <tr>\n",
       "      <td>0</td>\n",
       "      <td>1</td>\n",
       "      <td>Ionic Ear</td>\n",
       "      <td>1</td>\n",
       "      <td>1</td>\n",
       "      <td>101</td>\n",
       "      <td>Novelties</td>\n",
       "      <td>Darrin Johnson</td>\n",
       "      <td>St. Paul, MN</td>\n",
       "      <td>St. Paul</td>\n",
       "      <td>MN</td>\n",
       "      <td>...</td>\n",
       "      <td>Kevin Harrington</td>\n",
       "      <td>No Deal Made</td>\n",
       "      <td>NaN</td>\n",
       "      <td>NaN</td>\n",
       "      <td>NaN</td>\n",
       "      <td>NaN</td>\n",
       "      <td>NaN</td>\n",
       "      <td>NaN</td>\n",
       "      <td>False</td>\n",
       "      <td>Bluetooth device implant for your ear.</td>\n",
       "    </tr>\n",
       "    <tr>\n",
       "      <td>1</td>\n",
       "      <td>2</td>\n",
       "      <td>Mr. Tod's Pie Factory</td>\n",
       "      <td>1</td>\n",
       "      <td>1</td>\n",
       "      <td>101</td>\n",
       "      <td>Specialty Food</td>\n",
       "      <td>Tod Wilson</td>\n",
       "      <td>Somerset, NJ</td>\n",
       "      <td>Somerset</td>\n",
       "      <td>NJ</td>\n",
       "      <td>...</td>\n",
       "      <td>Kevin Harrington</td>\n",
       "      <td>Deal Made</td>\n",
       "      <td>BC+DJ</td>\n",
       "      <td>Barbara Corcoran</td>\n",
       "      <td>Daymond John</td>\n",
       "      <td>NaN</td>\n",
       "      <td>NaN</td>\n",
       "      <td>NaN</td>\n",
       "      <td>False</td>\n",
       "      <td>Retail and wholesale pie factory with two reta...</td>\n",
       "    </tr>\n",
       "    <tr>\n",
       "      <td>2</td>\n",
       "      <td>3</td>\n",
       "      <td>Ava the Elephant</td>\n",
       "      <td>1</td>\n",
       "      <td>1</td>\n",
       "      <td>101</td>\n",
       "      <td>Baby and Child Care</td>\n",
       "      <td>Tiffany Krumins</td>\n",
       "      <td>Atlanta, GA</td>\n",
       "      <td>Atlanta</td>\n",
       "      <td>GA</td>\n",
       "      <td>...</td>\n",
       "      <td>Kevin Harrington</td>\n",
       "      <td>Deal Made</td>\n",
       "      <td>BC</td>\n",
       "      <td>Barbara Corcoran</td>\n",
       "      <td>NaN</td>\n",
       "      <td>NaN</td>\n",
       "      <td>NaN</td>\n",
       "      <td>NaN</td>\n",
       "      <td>False</td>\n",
       "      <td>Ava the Elephant is a godsend for frazzled par...</td>\n",
       "    </tr>\n",
       "    <tr>\n",
       "      <td>3</td>\n",
       "      <td>4</td>\n",
       "      <td>College Foxes Packing Boxes</td>\n",
       "      <td>1</td>\n",
       "      <td>1</td>\n",
       "      <td>101</td>\n",
       "      <td>Consumer Services</td>\n",
       "      <td>Nick Friedman, Omar Soliman</td>\n",
       "      <td>Tampa, FL</td>\n",
       "      <td>Tampa</td>\n",
       "      <td>FL</td>\n",
       "      <td>...</td>\n",
       "      <td>Kevin Harrington</td>\n",
       "      <td>No Deal Made</td>\n",
       "      <td>NaN</td>\n",
       "      <td>NaN</td>\n",
       "      <td>NaN</td>\n",
       "      <td>NaN</td>\n",
       "      <td>NaN</td>\n",
       "      <td>NaN</td>\n",
       "      <td>False</td>\n",
       "      <td>Organizing, packing, and moving services deliv...</td>\n",
       "    </tr>\n",
       "    <tr>\n",
       "      <td>4</td>\n",
       "      <td>5</td>\n",
       "      <td>Wispots</td>\n",
       "      <td>1</td>\n",
       "      <td>1</td>\n",
       "      <td>101</td>\n",
       "      <td>Consumer Services</td>\n",
       "      <td>Kevin Flannery</td>\n",
       "      <td>Cary, NC</td>\n",
       "      <td>Cary</td>\n",
       "      <td>NC</td>\n",
       "      <td>...</td>\n",
       "      <td>Kevin Harrington</td>\n",
       "      <td>No Deal Made</td>\n",
       "      <td>NaN</td>\n",
       "      <td>NaN</td>\n",
       "      <td>NaN</td>\n",
       "      <td>NaN</td>\n",
       "      <td>NaN</td>\n",
       "      <td>NaN</td>\n",
       "      <td>False</td>\n",
       "      <td>Interactive media centers for healthcare waiti...</td>\n",
       "    </tr>\n",
       "  </tbody>\n",
       "</table>\n",
       "<p>5 rows × 28 columns</p>\n",
       "</div>"
      ],
      "text/plain": [
       "   Id                        Title  Episode  Season  Episode Code  \\\n",
       "0   1                    Ionic Ear        1       1           101   \n",
       "1   2        Mr. Tod's Pie Factory        1       1           101   \n",
       "2   3             Ava the Elephant        1       1           101   \n",
       "3   4  College Foxes Packing Boxes        1       1           101   \n",
       "4   5                      Wispots        1       1           101   \n",
       "\n",
       "              Category                Entrepreneurs      Location      City  \\\n",
       "0            Novelties               Darrin Johnson  St. Paul, MN  St. Paul   \n",
       "1       Specialty Food                   Tod Wilson  Somerset, NJ  Somerset   \n",
       "2  Baby and Child Care              Tiffany Krumins   Atlanta, GA   Atlanta   \n",
       "3    Consumer Services  Nick Friedman, Omar Soliman     Tampa, FL     Tampa   \n",
       "4    Consumer Services               Kevin Flannery      Cary, NC      Cary   \n",
       "\n",
       "  State  ...           Shark 5   Deal Status  Shark(s) That Made a Deal  \\\n",
       "0    MN  ...  Kevin Harrington  No Deal Made                        NaN   \n",
       "1    NJ  ...  Kevin Harrington     Deal Made                      BC+DJ   \n",
       "2    GA  ...  Kevin Harrington     Deal Made                         BC   \n",
       "3    FL  ...  Kevin Harrington  No Deal Made                        NaN   \n",
       "4    NC  ...  Kevin Harrington  No Deal Made                        NaN   \n",
       "\n",
       "       Deal Shark 1  Deal Shark 2 Deal Shark 3 Deal Shark 4 Deal Shark 5  \\\n",
       "0               NaN           NaN          NaN          NaN          NaN   \n",
       "1  Barbara Corcoran  Daymond John          NaN          NaN          NaN   \n",
       "2  Barbara Corcoran           NaN          NaN          NaN          NaN   \n",
       "3               NaN           NaN          NaN          NaN          NaN   \n",
       "4               NaN           NaN          NaN          NaN          NaN   \n",
       "\n",
       "  Multiple Entreprenuers                                        Description  \n",
       "0                  False             Bluetooth device implant for your ear.  \n",
       "1                  False  Retail and wholesale pie factory with two reta...  \n",
       "2                  False  Ava the Elephant is a godsend for frazzled par...  \n",
       "3                  False  Organizing, packing, and moving services deliv...  \n",
       "4                  False  Interactive media centers for healthcare waiti...  \n",
       "\n",
       "[5 rows x 28 columns]"
      ]
     },
     "execution_count": 4,
     "metadata": {},
     "output_type": "execute_result"
    }
   ],
   "source": [
    "df.head()"
   ]
  },
  {
   "cell_type": "code",
   "execution_count": 5,
   "metadata": {},
   "outputs": [
    {
     "name": "stdout",
     "output_type": "stream",
     "text": [
      "Requirement already satisfied: sqlalchemy in /Users/robertorobles/opt/anaconda3/envs/PythonData/lib/python3.6/site-packages (1.3.9)\r\n"
     ]
    }
   ],
   "source": [
    "!pip install sqlalchemy"
   ]
  },
  {
   "cell_type": "code",
   "execution_count": 6,
   "metadata": {},
   "outputs": [],
   "source": [
    "from sqlalchemy import create_engine"
   ]
  },
  {
   "cell_type": "code",
   "execution_count": 7,
   "metadata": {},
   "outputs": [],
   "source": [
    "engine = create_engine(\"sqlite:///SharkTank.sqlite\")\n",
    "conn = engine.connect()"
   ]
  },
  {
   "cell_type": "code",
   "execution_count": 8,
   "metadata": {},
   "outputs": [],
   "source": [
    "from sqlalchemy.ext.declarative import declarative_base\n",
    "from sqlalchemy import Column, Integer, String, Float"
   ]
  },
  {
   "cell_type": "code",
   "execution_count": 9,
   "metadata": {},
   "outputs": [],
   "source": [
    "Base = declarative_base()\n",
    "class User (Base):\n",
    "    __tablename__ = \"Shark_Tank\"\n",
    "    Id = Column(Integer, primary_key=True)\n",
    "    Title = Column(String)\n",
    "    Episode = Column(String)\n",
    "    Season = Column(String)\n",
    "    Episode_Code = Column(\"Episode Code\", String)\n",
    "    Category = Column(String)\n",
    "    Entrepreneurs = Column(String)\n",
    "    Location = Column(String)\n",
    "    City = Column(String)\n",
    "    State = Column(String)\n",
    "    Website = Column(String)\n",
    "    Amount_Requested = Column(\"Amount Asked For\", String)\n",
    "    Exchange_4_Stake = Column(\"Exchange For Stake\", String)\n",
    "    Valuation = Column(String)\n",
    "    Shark1 = Column(\"Shark 1\", String)\n",
    "    Shark2 = Column(\"Shark 2\", String)\n",
    "    Shark3 = Column(\"Shark 3\", String)\n",
    "    Shark4 = Column(\"Shark 4\", String)\n",
    "    Shark5 = Column(\"Shark 5\", String)\n",
    "    Deal_Status = Column(\"Deal Status\", String)\n",
    "    SharkThatMadeDeal = Column(\"Shark(s) That Made a Deal\", String)\n",
    "    DealShark1 = Column(\"Deal Shark 1\", String)\n",
    "    DealShark2 = Column(\"Deal Shark 2\", String)\n",
    "    DealShark3 = Column(\"Deal Shark 3\", String)\n",
    "    DealShark4 = Column(\"Deal Shark 4\", String)\n",
    "    DealShark5 = Column(\"Deal Shark 5\", String)\n",
    "    Mult_Entrpnrs = Column(\"Multiple Entreprenuers\", String)\n",
    "    Description = Column(String(225))"
   ]
  },
  {
   "cell_type": "code",
   "execution_count": 10,
   "metadata": {},
   "outputs": [],
   "source": [
    "Base.metadata.drop_all(conn)\n",
    "Base.metadata.create_all(conn)"
   ]
  },
  {
   "cell_type": "code",
   "execution_count": 11,
   "metadata": {},
   "outputs": [],
   "source": [
    "df.to_sql(User.__tablename__, conn, index=False, if_exists=\"append\")"
   ]
  },
  {
   "cell_type": "code",
   "execution_count": 12,
   "metadata": {},
   "outputs": [],
   "source": [
    "!open ."
   ]
  },
  {
   "cell_type": "code",
   "execution_count": null,
   "metadata": {},
   "outputs": [],
   "source": []
  },
  {
   "cell_type": "code",
   "execution_count": null,
   "metadata": {},
   "outputs": [],
   "source": []
  },
  {
   "cell_type": "code",
   "execution_count": null,
   "metadata": {},
   "outputs": [],
   "source": []
  }
 ],
 "metadata": {
  "kernelspec": {
   "display_name": "Python 3",
   "language": "python",
   "name": "python3"
  },
  "language_info": {
   "codemirror_mode": {
    "name": "ipython",
    "version": 3
   },
   "file_extension": ".py",
   "mimetype": "text/x-python",
   "name": "python",
   "nbconvert_exporter": "python",
   "pygments_lexer": "ipython3",
   "version": "3.6.9"
  }
 },
 "nbformat": 4,
 "nbformat_minor": 2
}
