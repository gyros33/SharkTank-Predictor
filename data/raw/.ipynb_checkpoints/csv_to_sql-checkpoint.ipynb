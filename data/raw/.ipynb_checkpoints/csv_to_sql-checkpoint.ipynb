{
 "cells": [
  {
   "cell_type": "code",
   "execution_count": 1,
   "metadata": {},
   "outputs": [],
   "source": [
    "import pandas as pd"
   ]
  },
  {
   "cell_type": "code",
   "execution_count": 2,
   "metadata": {},
   "outputs": [
    {
     "name": "stdout",
     "output_type": "stream",
     "text": [
      "CleanedmergedSharkTankData.csv mergedSharkTankData.csv\r\n",
      "Sharktankpitchesdeals.csv      shark_tank.csv\r\n",
      "csv_to_sql.ipynb               shark_tank.sql\r\n"
     ]
    }
   ],
   "source": [
    "!ls "
   ]
  },
  {
   "cell_type": "code",
   "execution_count": 3,
   "metadata": {},
   "outputs": [],
   "source": [
    "df = pd.read_csv(\"CleanedmergedSharkTankData.csv\")"
   ]
  },
  {
   "cell_type": "code",
   "execution_count": 4,
   "metadata": {},
   "outputs": [
    {
     "data": {
      "text/html": [
       "<div>\n",
       "<style scoped>\n",
       "    .dataframe tbody tr th:only-of-type {\n",
       "        vertical-align: middle;\n",
       "    }\n",
       "\n",
       "    .dataframe tbody tr th {\n",
       "        vertical-align: top;\n",
       "    }\n",
       "\n",
       "    .dataframe thead th {\n",
       "        text-align: right;\n",
       "    }\n",
       "</style>\n",
       "<table border=\"1\" class=\"dataframe\">\n",
       "  <thead>\n",
       "    <tr style=\"text-align: right;\">\n",
       "      <th></th>\n",
       "      <th>Title</th>\n",
       "      <th>Episode</th>\n",
       "      <th>Season</th>\n",
       "      <th>Episode_Code</th>\n",
       "      <th>Category</th>\n",
       "      <th>Entrepreneurs</th>\n",
       "      <th>Location</th>\n",
       "      <th>Website</th>\n",
       "      <th>Amount Asked For</th>\n",
       "      <th>Exchange For Stake</th>\n",
       "      <th>Valuation</th>\n",
       "      <th>Shark 1</th>\n",
       "      <th>Shark 2</th>\n",
       "      <th>Shark 3</th>\n",
       "      <th>Shark 4</th>\n",
       "      <th>Shark 5</th>\n",
       "      <th>Deal Status</th>\n",
       "      <th>Shark(s) That Made a Deal</th>\n",
       "      <th>Multiple Entreprenuers</th>\n",
       "      <th>Description</th>\n",
       "    </tr>\n",
       "  </thead>\n",
       "  <tbody>\n",
       "    <tr>\n",
       "      <td>0</td>\n",
       "      <td>Ionic Ear</td>\n",
       "      <td>1</td>\n",
       "      <td>1</td>\n",
       "      <td>101</td>\n",
       "      <td>Novelties</td>\n",
       "      <td>Darrin Johnson</td>\n",
       "      <td>St. Paul, MN</td>\n",
       "      <td>NaN</td>\n",
       "      <td>1000000</td>\n",
       "      <td>0.15</td>\n",
       "      <td>6666667</td>\n",
       "      <td>Barbara Corcoran</td>\n",
       "      <td>Robert Herjavec</td>\n",
       "      <td>Kevin O'Leary</td>\n",
       "      <td>Daymond John</td>\n",
       "      <td>Kevin Harrington</td>\n",
       "      <td>No Deal Made</td>\n",
       "      <td>NaN</td>\n",
       "      <td>False</td>\n",
       "      <td>Bluetooth device implant for your ear.</td>\n",
       "    </tr>\n",
       "    <tr>\n",
       "      <td>1</td>\n",
       "      <td>Mr. Tod's Pie Factory</td>\n",
       "      <td>1</td>\n",
       "      <td>1</td>\n",
       "      <td>101</td>\n",
       "      <td>Specialty Food</td>\n",
       "      <td>Tod Wilson</td>\n",
       "      <td>Somerset, NJ</td>\n",
       "      <td>http://whybake.com/</td>\n",
       "      <td>460000</td>\n",
       "      <td>0.10</td>\n",
       "      <td>4600000</td>\n",
       "      <td>Barbara Corcoran</td>\n",
       "      <td>Robert Herjavec</td>\n",
       "      <td>Kevin O'Leary</td>\n",
       "      <td>Daymond John</td>\n",
       "      <td>Kevin Harrington</td>\n",
       "      <td>Deal Made</td>\n",
       "      <td>BC+DJ</td>\n",
       "      <td>False</td>\n",
       "      <td>Retail and wholesale pie factory with two reta...</td>\n",
       "    </tr>\n",
       "    <tr>\n",
       "      <td>2</td>\n",
       "      <td>Ava the Elephant</td>\n",
       "      <td>1</td>\n",
       "      <td>1</td>\n",
       "      <td>101</td>\n",
       "      <td>Baby and Child Care</td>\n",
       "      <td>Tiffany Krumins</td>\n",
       "      <td>Atlanta, GA</td>\n",
       "      <td>http://www.avatheelephant.com/</td>\n",
       "      <td>50000</td>\n",
       "      <td>0.15</td>\n",
       "      <td>333333</td>\n",
       "      <td>Barbara Corcoran</td>\n",
       "      <td>Robert Herjavec</td>\n",
       "      <td>Kevin O'Leary</td>\n",
       "      <td>Daymond John</td>\n",
       "      <td>Kevin Harrington</td>\n",
       "      <td>Deal Made</td>\n",
       "      <td>BC</td>\n",
       "      <td>False</td>\n",
       "      <td>Ava the Elephant is a godsend for frazzled par...</td>\n",
       "    </tr>\n",
       "    <tr>\n",
       "      <td>3</td>\n",
       "      <td>College Foxes Packing Boxes</td>\n",
       "      <td>1</td>\n",
       "      <td>1</td>\n",
       "      <td>101</td>\n",
       "      <td>Consumer Services</td>\n",
       "      <td>Nick Friedman, Omar Soliman</td>\n",
       "      <td>Tampa, FL</td>\n",
       "      <td>http://collegehunkshaulingjunk.com/</td>\n",
       "      <td>250000</td>\n",
       "      <td>0.25</td>\n",
       "      <td>1000000</td>\n",
       "      <td>Barbara Corcoran</td>\n",
       "      <td>Robert Herjavec</td>\n",
       "      <td>Kevin O'Leary</td>\n",
       "      <td>Daymond John</td>\n",
       "      <td>Kevin Harrington</td>\n",
       "      <td>No Deal Made</td>\n",
       "      <td>NaN</td>\n",
       "      <td>False</td>\n",
       "      <td>Organizing, packing, and moving services deliv...</td>\n",
       "    </tr>\n",
       "    <tr>\n",
       "      <td>4</td>\n",
       "      <td>Wispots</td>\n",
       "      <td>1</td>\n",
       "      <td>1</td>\n",
       "      <td>101</td>\n",
       "      <td>Consumer Services</td>\n",
       "      <td>Kevin Flannery</td>\n",
       "      <td>Cary, NC</td>\n",
       "      <td>http://www.wispots.com/</td>\n",
       "      <td>1200000</td>\n",
       "      <td>0.10</td>\n",
       "      <td>12000000</td>\n",
       "      <td>Barbara Corcoran</td>\n",
       "      <td>Robert Herjavec</td>\n",
       "      <td>Kevin O'Leary</td>\n",
       "      <td>Daymond John</td>\n",
       "      <td>Kevin Harrington</td>\n",
       "      <td>No Deal Made</td>\n",
       "      <td>NaN</td>\n",
       "      <td>False</td>\n",
       "      <td>Interactive media centers for healthcare waiti...</td>\n",
       "    </tr>\n",
       "  </tbody>\n",
       "</table>\n",
       "</div>"
      ],
      "text/plain": [
       "                         Title  Episode  Season  Episode_Code  \\\n",
       "0                    Ionic Ear        1       1           101   \n",
       "1        Mr. Tod's Pie Factory        1       1           101   \n",
       "2             Ava the Elephant        1       1           101   \n",
       "3  College Foxes Packing Boxes        1       1           101   \n",
       "4                      Wispots        1       1           101   \n",
       "\n",
       "              Category                Entrepreneurs      Location  \\\n",
       "0            Novelties               Darrin Johnson  St. Paul, MN   \n",
       "1       Specialty Food                   Tod Wilson  Somerset, NJ   \n",
       "2  Baby and Child Care              Tiffany Krumins   Atlanta, GA   \n",
       "3    Consumer Services  Nick Friedman, Omar Soliman     Tampa, FL   \n",
       "4    Consumer Services               Kevin Flannery      Cary, NC   \n",
       "\n",
       "                               Website  Amount Asked For  Exchange For Stake  \\\n",
       "0                                  NaN           1000000                0.15   \n",
       "1                  http://whybake.com/            460000                0.10   \n",
       "2       http://www.avatheelephant.com/             50000                0.15   \n",
       "3  http://collegehunkshaulingjunk.com/            250000                0.25   \n",
       "4              http://www.wispots.com/           1200000                0.10   \n",
       "\n",
       "   Valuation           Shark 1          Shark 2        Shark 3       Shark 4  \\\n",
       "0    6666667  Barbara Corcoran  Robert Herjavec  Kevin O'Leary  Daymond John   \n",
       "1    4600000  Barbara Corcoran  Robert Herjavec  Kevin O'Leary  Daymond John   \n",
       "2     333333  Barbara Corcoran  Robert Herjavec  Kevin O'Leary  Daymond John   \n",
       "3    1000000  Barbara Corcoran  Robert Herjavec  Kevin O'Leary  Daymond John   \n",
       "4   12000000  Barbara Corcoran  Robert Herjavec  Kevin O'Leary  Daymond John   \n",
       "\n",
       "            Shark 5   Deal Status Shark(s) That Made a Deal  \\\n",
       "0  Kevin Harrington  No Deal Made                       NaN   \n",
       "1  Kevin Harrington     Deal Made                     BC+DJ   \n",
       "2  Kevin Harrington     Deal Made                        BC   \n",
       "3  Kevin Harrington  No Deal Made                       NaN   \n",
       "4  Kevin Harrington  No Deal Made                       NaN   \n",
       "\n",
       "   Multiple Entreprenuers                                        Description  \n",
       "0                   False             Bluetooth device implant for your ear.  \n",
       "1                   False  Retail and wholesale pie factory with two reta...  \n",
       "2                   False  Ava the Elephant is a godsend for frazzled par...  \n",
       "3                   False  Organizing, packing, and moving services deliv...  \n",
       "4                   False  Interactive media centers for healthcare waiti...  "
      ]
     },
     "execution_count": 4,
     "metadata": {},
     "output_type": "execute_result"
    }
   ],
   "source": [
    "df.head()"
   ]
  },
  {
   "cell_type": "code",
   "execution_count": 5,
   "metadata": {},
   "outputs": [
    {
     "name": "stdout",
     "output_type": "stream",
     "text": [
      "Requirement already satisfied: sqlalchemy in /Users/robertorobles/opt/anaconda3/envs/PythonData/lib/python3.6/site-packages (1.3.9)\r\n"
     ]
    }
   ],
   "source": [
    "!pip install sqlalchemy"
   ]
  },
  {
   "cell_type": "code",
   "execution_count": 6,
   "metadata": {},
   "outputs": [],
   "source": [
    "from sqlalchemy import create_engine"
   ]
  },
  {
   "cell_type": "code",
   "execution_count": 7,
   "metadata": {},
   "outputs": [],
   "source": [
    "engine = create_engine(\"sqlite:///SharkTank.sqlite\")\n",
    "conn = engine.connect()"
   ]
  },
  {
   "cell_type": "code",
   "execution_count": 8,
   "metadata": {},
   "outputs": [],
   "source": [
    "from sqlalchemy.ext.declarative import declarative_base\n",
    "from sqlalchemy import Column, Integer, String, Float"
   ]
  },
  {
   "cell_type": "code",
   "execution_count": 9,
   "metadata": {},
   "outputs": [],
   "source": [
    "Base = declarative_base()\n",
    "class User (Base):\n",
    "    __tablename__ = \"Shark_Tank\"\n",
    "    Title = Column(String, primary_key=True)\n",
    "    Episode = Column(String)\n",
    "    Season = Column(String)\n",
    "    Episode_Code = Column(\"Episode Code\", String)\n",
    "    Category = Column(String)\n",
    "    Entrepreneurs = Column(String)\n",
    "    Location = Column(String)\n",
    "    City = Column(String)\n",
    "    State = Column(String)\n",
    "    Website = Column(String)\n",
    "    Amount_Requested = Column(\"Amount Asked For\", String)\n",
    "    Exchange_4_Stake = Column(\"Exchange For Stake\", String)\n",
    "    Valuation = Column(String)\n",
    "    Shark1 = Column(\"Shark 1\", String)\n",
    "    Shark2 = Column(\"Shark 2\", String)\n",
    "    Shark3 = Column(\"Shark 3\", String)\n",
    "    Shark4 = Column(\"Shark 4\", String)\n",
    "    Shark5 = Column(\"Shark 5\", String)\n",
    "    Deal_Status = Column(\"Deal Status\", String)\n",
    "    SharkThatMadeDeal = Column(\"Shark(s) That Made a Deal\", String)\n",
    "    Mult_Entrpnrs = Column(\"Multiple Entreprenuers\", String)\n",
    "    Description = Column(String(225))"
   ]
  },
  {
   "cell_type": "code",
   "execution_count": 10,
   "metadata": {},
   "outputs": [],
   "source": [
    "Base.metadata.drop_all(conn)\n",
    "Base.metadata.create_all(conn)"
   ]
  },
  {
   "cell_type": "code",
   "execution_count": 11,
   "metadata": {},
   "outputs": [],
   "source": [
    "df.to_sql(User.__tablename__, conn, index=False, if_exists=\"append\")"
   ]
  },
  {
   "cell_type": "code",
   "execution_count": 12,
   "metadata": {},
   "outputs": [],
   "source": [
    "!open ."
   ]
  },
  {
   "cell_type": "code",
   "execution_count": null,
   "metadata": {},
   "outputs": [],
   "source": []
  },
  {
   "cell_type": "code",
   "execution_count": null,
   "metadata": {},
   "outputs": [],
   "source": []
  },
  {
   "cell_type": "code",
   "execution_count": null,
   "metadata": {},
   "outputs": [],
   "source": []
  }
 ],
 "metadata": {
  "kernelspec": {
   "display_name": "Python 3",
   "language": "python",
   "name": "python3"
  },
  "language_info": {
   "codemirror_mode": {
    "name": "ipython",
    "version": 3
   },
   "file_extension": ".py",
   "mimetype": "text/x-python",
   "name": "python",
   "nbconvert_exporter": "python",
   "pygments_lexer": "ipython3",
   "version": "3.6.9"
  }
 },
 "nbformat": 4,
 "nbformat_minor": 2
}
